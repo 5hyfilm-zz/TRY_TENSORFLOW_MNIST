{
  "cells": [
    {
      "metadata": {},
      "cell_type": "markdown",
      "source": "# Import Libraries"
    },
    {
      "metadata": {
        "trusted": true
      },
      "cell_type": "code",
      "source": "import tensorflow as tf\nimport keras\nfrom keras.datasets import mnist\nimport matplotlib.pyplot as plt",
      "execution_count": 2,
      "outputs": [
        {
          "output_type": "stream",
          "text": "Using TensorFlow backend.\n",
          "name": "stderr"
        }
      ]
    },
    {
      "metadata": {},
      "cell_type": "markdown",
      "source": "# Download Dataset"
    },
    {
      "metadata": {
        "trusted": true
      },
      "cell_type": "code",
      "source": "(x_train, y_train), (x_test, y_test) = mnist.load_data()",
      "execution_count": 3,
      "outputs": [
        {
          "output_type": "stream",
          "text": "Downloading data from https://s3.amazonaws.com/img-datasets/mnist.npz\n11493376/11490434 [==============================] - 2s 0us/step\n",
          "name": "stdout"
        }
      ]
    },
    {
      "metadata": {},
      "cell_type": "markdown",
      "source": "# Type Of Dataset"
    },
    {
      "metadata": {
        "trusted": true
      },
      "cell_type": "code",
      "source": "print('x_train: ',type(x_train))\nprint('y_train: ',type(y_train))\nprint('x_test: ',type(x_test))\nprint('y_test: ',type(y_test))",
      "execution_count": 4,
      "outputs": [
        {
          "output_type": "stream",
          "text": "x_train:  <class 'numpy.ndarray'>\ny_train:  <class 'numpy.ndarray'>\nx_test:  <class 'numpy.ndarray'>\ny_test:  <class 'numpy.ndarray'>\n",
          "name": "stdout"
        }
      ]
    },
    {
      "metadata": {},
      "cell_type": "markdown",
      "source": "# See The Dataset"
    },
    {
      "metadata": {
        "trusted": true
      },
      "cell_type": "code",
      "source": "img = x_train[5]\nplt.imshow(img, cmap='gist_gray')",
      "execution_count": 5,
      "outputs": [
        {
          "output_type": "execute_result",
          "execution_count": 5,
          "data": {
            "text/plain": "<matplotlib.image.AxesImage at 0x7fd41bbfddd8>"
          },
          "metadata": {}
        },
        {
          "output_type": "display_data",
          "data": {
            "image/png": "[encoded data removed]",
            "text/plain": "<Figure size 432x288 with 1 Axes>"
          },
          "metadata": {
            "needs_background": "light"
          }
        }
      ]
    },
    {
      "metadata": {
        "trusted": true
      },
      "cell_type": "code",
      "source": "print('x_train: ', x_train.shape)\nprint('y_train: ', y_train.shape)\nprint('x_test: ', x_test.shape)\nprint('y_test: ', y_test.shape)",
      "execution_count": 6,
      "outputs": [
        {
          "output_type": "stream",
          "text": "x_train:  (60000, 28, 28)\ny_train:  (60000,)\nx_test:  (10000, 28, 28)\ny_test:  (10000,)\n",
          "name": "stdout"
        }
      ]
    },
    {
      "metadata": {
        "trusted": true
      },
      "cell_type": "code",
      "source": "x_train = x_train.reshape(60000, 28, 28, 1)\nx_test = x_test.reshape(10000, 28, 28, 1)",
      "execution_count": 22,
      "outputs": []
    },
    {
      "metadata": {},
      "cell_type": "markdown",
      "source": "# Normalize"
    },
    {
      "metadata": {
        "trusted": true
      },
      "cell_type": "code",
      "source": "print('min: ', img.min())\nprint('max: ', img.max())",
      "execution_count": 23,
      "outputs": [
        {
          "output_type": "stream",
          "text": "min:  0\nmax:  255\n",
          "name": "stdout"
        }
      ]
    },
    {
      "metadata": {
        "trusted": true
      },
      "cell_type": "code",
      "source": "class_name = ['0', '1', '2', '3', '4', '5', '6', '7', '8', '9']",
      "execution_count": 24,
      "outputs": []
    },
    {
      "metadata": {},
      "cell_type": "markdown",
      "source": "# Build The Model"
    },
    {
      "metadata": {
        "trusted": true
      },
      "cell_type": "code",
      "source": "model = tf.keras.Sequential([\n    tf.keras.layers.Flatten(input_shape=(28, 28, 1)),\n    tf.keras.layers.Dense(128, activation=tf.nn.relu),\n    tf.keras.layers.Dense(10, activation=tf.nn.softmax)\n    ])",
      "execution_count": 35,
      "outputs": []
    },
    {
      "metadata": {
        "trusted": true
      },
      "cell_type": "code",
      "source": "model.compile(optimizer='adam',\n              loss='sparse_categorical_crossentropy',\n              metrics=['accuracy'])",
      "execution_count": 36,
      "outputs": []
    },
    {
      "metadata": {
        "trusted": true
      },
      "cell_type": "code",
      "source": "model.fit(x_train, y_train, epochs=5)",
      "execution_count": 37,
      "outputs": [
        {
          "output_type": "stream",
          "text": "Epoch 1/5\n60000/60000 [==============================] - 26s 436us/step - loss: 8.8503 - acc: 0.4484\nEpoch 2/5\n60000/60000 [==============================] - 23s 384us/step - loss: 8.0233 - acc: 0.5010\nEpoch 3/5\n60000/60000 [==============================] - 23s 379us/step - loss: 8.0242 - acc: 0.5014\nEpoch 4/5\n60000/60000 [==============================] - 25s 410us/step - loss: 8.0614 - acc: 0.4992\nEpoch 5/5\n60000/60000 [==============================] - 22s 367us/step - loss: 7.8199 - acc: 0.5144\n",
          "name": "stdout"
        },
        {
          "output_type": "execute_result",
          "execution_count": 37,
          "data": {
            "text/plain": "<tensorflow.python.keras.callbacks.History at 0x7fd408721cf8>"
          },
          "metadata": {}
        }
      ]
    },
    {
      "metadata": {
        "trusted": true
      },
      "cell_type": "code",
      "source": "",
      "execution_count": null,
      "outputs": []
    }
  ],
  "metadata": {
    "kernelspec": {
      "name": "python36",
      "display_name": "Python 3.6",
      "language": "python"
    },
    "language_info": {
      "mimetype": "text/x-python",
      "nbconvert_exporter": "python",
      "name": "python",
      "pygments_lexer": "ipython3",
      "version": "3.6.6",
      "file_extension": ".py",
      "codemirror_mode": {
        "version": 3,
        "name": "ipython"
      }
    }
  },
  "nbformat": 4,
  "nbformat_minor": 2
}